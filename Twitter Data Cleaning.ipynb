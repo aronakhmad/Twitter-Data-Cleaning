{
 "cells": [
  {
   "source": [
    "# Twitter Data Cleaning\n",
    "\n",
    "In this program, we're going to code how to clean twitter data. There are 4 main steps that we're gonna be doing:<br><br>\n",
    "1. Removing data duplicates<br>\n",
    "2. Decoding html entities into regular characters (and clearing unnecessary new lines)<br>\n",
    "3. Removing links, hash character, username and punctuations (if any)<br>\n",
    "4. Removing stopwords<br><br>\n",
    "These whole processes are intended to obtain clean twitter data that's going to be used for further process (analysis)."
   ],
   "cell_type": "markdown",
   "metadata": {}
  },
  {
   "cell_type": "markdown",
   "metadata": {},
   "source": [
    "***\n",
    "### Import modules\n",
    "***\n",
    "Import modules needed for cleaning process. There are several modules used here:<br><br>\n",
    "1. **pandas** --> to open data file and to apply certain operation to the data.<br>\n",
    "2. **html** --> to decode html entities into regular characters.<br>\n",
    "3. **re** --> to filter and delete unnecessary links, hash, username and punctuations.<br>\n",
    "4. **nltk** --> to clean stopwords."
   ]
  },
  {
   "cell_type": "code",
   "execution_count": 2,
   "metadata": {},
   "outputs": [],
   "source": [
    "import pandas as pd\n",
    "import html\n",
    "import re\n",
    "from nltk.corpus import stopwords\n",
    "from nltk.tokenize import word_tokenize"
   ]
  },
  {
   "cell_type": "markdown",
   "metadata": {},
   "source": [
    "### Data Importing\n",
    "***\n",
    "Import the data file that needs to be cleaned. In this case, I'm using a csv twitter data sample that I randomly got from the internet.<br><br>P.S. Please note that you may need a different kind of approach to connect or import the file according to the data source you're using."
   ]
  },
  {
   "cell_type": "code",
   "execution_count": 3,
   "metadata": {},
   "outputs": [
    {
     "output_type": "execute_result",
     "data": {
      "text/plain": [
       "                Tweet Id  \\\n",
       "0  \"1167429261210218497\"   \n",
       "1  \"1167375334670557185\"   \n",
       "2  \"1167237977615097861\"   \n",
       "3  \"1167236897078480898\"   \n",
       "4  \"1167228378191204353\"   \n",
       "\n",
       "                                                       Tweet URL  \\\n",
       "0  https://twitter.com/animalhealthEU/status/1167429261210218497   \n",
       "1    https://twitter.com/PennyBrohnUK/status/1167375334670557185   \n",
       "2     https://twitter.com/lordbyronaf/status/1167237977615097861   \n",
       "3   https://twitter.com/CountessDavis/status/1167236897078480898   \n",
       "4         https://twitter.com/Local12/status/1167228378191204353   \n",
       "\n",
       "  Tweet Posted Time (UTC)  \\\n",
       "0    30 Aug 2019 13:30:00   \n",
       "1    30 Aug 2019 09:55:43   \n",
       "2    30 Aug 2019 00:49:54   \n",
       "3    30 Aug 2019 00:45:37   \n",
       "4    30 Aug 2019 00:11:46   \n",
       "\n",
       "                                                                                                                                                                                                                                                Tweet Content  \\\n",
       "0  Pets change our lives &amp; become a part of our families ❤️\\nThat's why our members offer many solutions to help you to enjoy a long-lasting bond with your happy &amp; healthy pet 🐱🐶\\n#MorethanMedicine #PetCare #PetsareFamily https://t.co/fZNIXge9a3   \n",
       "1                                                                     Another spot of our #morethanmedicine bus in #bristol this week! If you need support with your cancer diagnosis call us on 0303 3000 118. #livingwellwithcancer https://t.co/eZGLz0BkXB   \n",
       "2                                                                                                                                                                    What a great team ⁦@HealthSourceOH⁩ ⁦@Local12⁩ #morethanmedicine https://t.co/g2YzMDUpVA   \n",
       "3                                                                                                                                                                    What a great team ⁦@HealthSourceOH⁩ ⁦@Local12⁩ #morethanmedicine https://t.co/g2YzMDUpVA   \n",
       "4                                                                                                                                                                    What a great team ⁦@HealthSourceOH⁩ ⁦@Local12⁩ #morethanmedicine https://t.co/g2YzMDUpVA   \n",
       "\n",
       "  Tweet Type                Client  Retweets Received  Likes Received  \\\n",
       "0      Tweet  Twitter Ads Composer                  0               4   \n",
       "1      Tweet       Twitter Web App                  0               5   \n",
       "2    ReTweet   Twitter for Android                  0               0   \n",
       "3    ReTweet   Twitter for Android                  0               0   \n",
       "4    ReTweet             TweetDeck                  0               0   \n",
       "\n",
       "   Tweet Location Tweet Language  ...                 Name        Username  \\\n",
       "0        Brussels        English  ...   AnimalhealthEurope  animalhealthEU   \n",
       "1   Pill, Bristol        English  ...       Penny Brohn UK    PennyBrohnUK   \n",
       "2       Ohio, USA        English  ...         Lord ByronAF     lordbyronaf   \n",
       "3             NaN        English  ...  Lisa Countess davis   CountessDavis   \n",
       "4  Cincinnati, OH        English  ...     Local 12/WKRC-TV         Local12   \n",
       "\n",
       "                                                                                                                                                               User Bio  \\\n",
       "0                                                                        AnimalhealthEurope represents manufacturers of animal medicines in Europe #AnimalHealthMatters   \n",
       "1  We help people live well with the impact of cancer through physical, psychological and emotional support. We rely on voluntary donations &amp; we need your support!   \n",
       "2                                     It's easier to be who you are, than it is to be who you think others want you to be. 18+ only.\\nCultured Brute #NorseUp #Bearcats   \n",
       "3                                                                     I am named after @ElvisPresley daughter Lisa Marie Presley\\nI am nicknamed after @Dannycountkoker   \n",
       "4                            Local 12 is #Cincinnati's trusted source for breaking news &amp; complete coverage from the Weather Authority! Add us on Snapchat: Local12   \n",
       "\n",
       "  Verified or Non-Verified                         Profile URL  \\\n",
       "0             Non-Verified  https://twitter.com/animalhealthEU   \n",
       "1             Non-Verified    https://twitter.com/PennyBrohnUK   \n",
       "2             Non-Verified     https://twitter.com/lordbyronaf   \n",
       "3             Non-Verified   https://twitter.com/CountessDavis   \n",
       "4                 Verified         https://twitter.com/Local12   \n",
       "\n",
       "  Protected or Non-protected User Followers  User Following  \\\n",
       "0              Non-Protected           3697             542   \n",
       "1              Non-Protected           3227            1571   \n",
       "2              Non-Protected           7808            8617   \n",
       "3              Non-Protected            291              81   \n",
       "4              Non-Protected         198675             651   \n",
       "\n",
       "   User Account Creation Date Impressions  \n",
       "0        17 Dec 2012 09:14:15        7394  \n",
       "1        15 Sep 2010 09:44:02        6454  \n",
       "2        25 Jul 2012 15:43:47           0  \n",
       "3        26 Jan 2017 18:21:42           0  \n",
       "4        02 Sep 2008 20:09:44           0  \n",
       "\n",
       "[5 rows x 21 columns]"
      ],
      "text/html": "<div>\n<style scoped>\n    .dataframe tbody tr th:only-of-type {\n        vertical-align: middle;\n    }\n\n    .dataframe tbody tr th {\n        vertical-align: top;\n    }\n\n    .dataframe thead th {\n        text-align: right;\n    }\n</style>\n<table border=\"1\" class=\"dataframe\">\n  <thead>\n    <tr style=\"text-align: right;\">\n      <th></th>\n      <th>Tweet Id</th>\n      <th>Tweet URL</th>\n      <th>Tweet Posted Time (UTC)</th>\n      <th>Tweet Content</th>\n      <th>Tweet Type</th>\n      <th>Client</th>\n      <th>Retweets Received</th>\n      <th>Likes Received</th>\n      <th>Tweet Location</th>\n      <th>Tweet Language</th>\n      <th>...</th>\n      <th>Name</th>\n      <th>Username</th>\n      <th>User Bio</th>\n      <th>Verified or Non-Verified</th>\n      <th>Profile URL</th>\n      <th>Protected or Non-protected</th>\n      <th>User Followers</th>\n      <th>User Following</th>\n      <th>User Account Creation Date</th>\n      <th>Impressions</th>\n    </tr>\n  </thead>\n  <tbody>\n    <tr>\n      <th>0</th>\n      <td>\"1167429261210218497\"</td>\n      <td>https://twitter.com/animalhealthEU/status/1167429261210218497</td>\n      <td>30 Aug 2019 13:30:00</td>\n      <td>Pets change our lives &amp;amp; become a part of our families ❤️\\nThat's why our members offer many solutions to help you to enjoy a long-lasting bond with your happy &amp;amp; healthy pet 🐱🐶\\n#MorethanMedicine #PetCare #PetsareFamily https://t.co/fZNIXge9a3</td>\n      <td>Tweet</td>\n      <td>Twitter Ads Composer</td>\n      <td>0</td>\n      <td>4</td>\n      <td>Brussels</td>\n      <td>English</td>\n      <td>...</td>\n      <td>AnimalhealthEurope</td>\n      <td>animalhealthEU</td>\n      <td>AnimalhealthEurope represents manufacturers of animal medicines in Europe #AnimalHealthMatters</td>\n      <td>Non-Verified</td>\n      <td>https://twitter.com/animalhealthEU</td>\n      <td>Non-Protected</td>\n      <td>3697</td>\n      <td>542</td>\n      <td>17 Dec 2012 09:14:15</td>\n      <td>7394</td>\n    </tr>\n    <tr>\n      <th>1</th>\n      <td>\"1167375334670557185\"</td>\n      <td>https://twitter.com/PennyBrohnUK/status/1167375334670557185</td>\n      <td>30 Aug 2019 09:55:43</td>\n      <td>Another spot of our #morethanmedicine bus in #bristol this week! If you need support with your cancer diagnosis call us on 0303 3000 118. #livingwellwithcancer https://t.co/eZGLz0BkXB</td>\n      <td>Tweet</td>\n      <td>Twitter Web App</td>\n      <td>0</td>\n      <td>5</td>\n      <td>Pill, Bristol</td>\n      <td>English</td>\n      <td>...</td>\n      <td>Penny Brohn UK</td>\n      <td>PennyBrohnUK</td>\n      <td>We help people live well with the impact of cancer through physical, psychological and emotional support. We rely on voluntary donations &amp;amp; we need your support!</td>\n      <td>Non-Verified</td>\n      <td>https://twitter.com/PennyBrohnUK</td>\n      <td>Non-Protected</td>\n      <td>3227</td>\n      <td>1571</td>\n      <td>15 Sep 2010 09:44:02</td>\n      <td>6454</td>\n    </tr>\n    <tr>\n      <th>2</th>\n      <td>\"1167237977615097861\"</td>\n      <td>https://twitter.com/lordbyronaf/status/1167237977615097861</td>\n      <td>30 Aug 2019 00:49:54</td>\n      <td>What a great team ⁦@HealthSourceOH⁩ ⁦@Local12⁩ #morethanmedicine https://t.co/g2YzMDUpVA</td>\n      <td>ReTweet</td>\n      <td>Twitter for Android</td>\n      <td>0</td>\n      <td>0</td>\n      <td>Ohio, USA</td>\n      <td>English</td>\n      <td>...</td>\n      <td>Lord ByronAF</td>\n      <td>lordbyronaf</td>\n      <td>It's easier to be who you are, than it is to be who you think others want you to be. 18+ only.\\nCultured Brute #NorseUp #Bearcats</td>\n      <td>Non-Verified</td>\n      <td>https://twitter.com/lordbyronaf</td>\n      <td>Non-Protected</td>\n      <td>7808</td>\n      <td>8617</td>\n      <td>25 Jul 2012 15:43:47</td>\n      <td>0</td>\n    </tr>\n    <tr>\n      <th>3</th>\n      <td>\"1167236897078480898\"</td>\n      <td>https://twitter.com/CountessDavis/status/1167236897078480898</td>\n      <td>30 Aug 2019 00:45:37</td>\n      <td>What a great team ⁦@HealthSourceOH⁩ ⁦@Local12⁩ #morethanmedicine https://t.co/g2YzMDUpVA</td>\n      <td>ReTweet</td>\n      <td>Twitter for Android</td>\n      <td>0</td>\n      <td>0</td>\n      <td>NaN</td>\n      <td>English</td>\n      <td>...</td>\n      <td>Lisa Countess davis</td>\n      <td>CountessDavis</td>\n      <td>I am named after @ElvisPresley daughter Lisa Marie Presley\\nI am nicknamed after @Dannycountkoker</td>\n      <td>Non-Verified</td>\n      <td>https://twitter.com/CountessDavis</td>\n      <td>Non-Protected</td>\n      <td>291</td>\n      <td>81</td>\n      <td>26 Jan 2017 18:21:42</td>\n      <td>0</td>\n    </tr>\n    <tr>\n      <th>4</th>\n      <td>\"1167228378191204353\"</td>\n      <td>https://twitter.com/Local12/status/1167228378191204353</td>\n      <td>30 Aug 2019 00:11:46</td>\n      <td>What a great team ⁦@HealthSourceOH⁩ ⁦@Local12⁩ #morethanmedicine https://t.co/g2YzMDUpVA</td>\n      <td>ReTweet</td>\n      <td>TweetDeck</td>\n      <td>0</td>\n      <td>0</td>\n      <td>Cincinnati, OH</td>\n      <td>English</td>\n      <td>...</td>\n      <td>Local 12/WKRC-TV</td>\n      <td>Local12</td>\n      <td>Local 12 is #Cincinnati's trusted source for breaking news &amp;amp; complete coverage from the Weather Authority! Add us on Snapchat: Local12</td>\n      <td>Verified</td>\n      <td>https://twitter.com/Local12</td>\n      <td>Non-Protected</td>\n      <td>198675</td>\n      <td>651</td>\n      <td>02 Sep 2008 20:09:44</td>\n      <td>0</td>\n    </tr>\n  </tbody>\n</table>\n<p>5 rows × 21 columns</p>\n</div>"
     },
     "metadata": {},
     "execution_count": 3
    }
   ],
   "source": [
    "pd.set_option('display.max_colwidth', None) #this code is intended to show the full data content in every column\n",
    "data = pd.read_csv('sample.csv')\n",
    "data.head()"
   ]
  },
  {
   "cell_type": "markdown",
   "metadata": {},
   "source": [
    "## 1. Removing Data Duplicates\n",
    "\n",
    "&nbsp;&nbsp;&nbsp;&nbsp;&nbsp;&nbsp;There are lots of data duplicates inside the data file. If we look into the raw data, those tweet duplicates was tweeted from different places, which means those tweets are tweeted by different accounts and (probably) different users. For some cases, if the analysis fancy the location detail, those duplicated tweet may should not be deleted, but if the analysis only requires the tweets and doesn't care about the location or any other data attributes, then the duplicated tweets may should be deleted. And in this case, I consider to delete the duplicated tweets anyway cause in this program, we assume that we only need the tweets for nlp analysis purpose or something like that."
   ]
  },
  {
   "cell_type": "code",
   "execution_count": 4,
   "metadata": {},
   "outputs": [
    {
     "output_type": "execute_result",
     "data": {
      "text/plain": [
       "                 Tweet Id  \\\n",
       "0   \"1167429261210218497\"   \n",
       "1   \"1167375334670557185\"   \n",
       "2   \"1167237977615097861\"   \n",
       "6   \"1167163662051631104\"   \n",
       "12  \"1166892836165496835\"   \n",
       "\n",
       "                                                        Tweet URL  \\\n",
       "0   https://twitter.com/animalhealthEU/status/1167429261210218497   \n",
       "1     https://twitter.com/PennyBrohnUK/status/1167375334670557185   \n",
       "2      https://twitter.com/lordbyronaf/status/1167237977615097861   \n",
       "6        https://twitter.com/luapppank/status/1167163662051631104   \n",
       "12  https://twitter.com/AndreaWestbyMD/status/1166892836165496835   \n",
       "\n",
       "   Tweet Posted Time (UTC)  \\\n",
       "0     30 Aug 2019 13:30:00   \n",
       "1     30 Aug 2019 09:55:43   \n",
       "2     30 Aug 2019 00:49:54   \n",
       "6     29 Aug 2019 19:54:36   \n",
       "12    29 Aug 2019 01:58:26   \n",
       "\n",
       "                                                                                                                                                                                                                                                 Tweet Content  \\\n",
       "0   Pets change our lives &amp; become a part of our families ❤️\\nThat's why our members offer many solutions to help you to enjoy a long-lasting bond with your happy &amp; healthy pet 🐱🐶\\n#MorethanMedicine #PetCare #PetsareFamily https://t.co/fZNIXge9a3   \n",
       "1                                                                      Another spot of our #morethanmedicine bus in #bristol this week! If you need support with your cancer diagnosis call us on 0303 3000 118. #livingwellwithcancer https://t.co/eZGLz0BkXB   \n",
       "2                                                                                                                                                                     What a great team ⁦@HealthSourceOH⁩ ⁦@Local12⁩ #morethanmedicine https://t.co/g2YzMDUpVA   \n",
       "6                                 Will you be at #FIX19? Want a preview of @AG_EM33 story? Then check back Monday for #ChangeOfHeart where we sat down with Alin to discuss her new life since her heart #transplant #MoreThanMedicine https://t.co/Xl9zjr7kZ1   \n",
       "12                                                                                                 Y’all ⁦@UMNNMFamMedRes⁩ Rose Marie Leslie is a ⁦@mnstatefair⁩ blue ribbon winning vinaigrette maker #morethanmedicine #alltheskills https://t.co/QzY8wsq4DO   \n",
       "\n",
       "   Tweet Type                Client  Retweets Received  Likes Received  \\\n",
       "0       Tweet  Twitter Ads Composer                  0               4   \n",
       "1       Tweet       Twitter Web App                  0               5   \n",
       "2     ReTweet   Twitter for Android                  0               0   \n",
       "6     ReTweet    Twitter for iPhone                  0               0   \n",
       "12      Tweet    Twitter for iPhone                  0              27   \n",
       "\n",
       "     Tweet Location Tweet Language  ...                Name        Username  \\\n",
       "0          Brussels        English  ...  AnimalhealthEurope  animalhealthEU   \n",
       "1     Pill, Bristol        English  ...      Penny Brohn UK    PennyBrohnUK   \n",
       "2         Ohio, USA        English  ...        Lord ByronAF     lordbyronaf   \n",
       "6    Scottsdale, AZ        English  ...          paul knapp       luapppank   \n",
       "12  Minneapolis, MN        English  ...       Andrea Westby  AndreaWestbyMD   \n",
       "\n",
       "                                                                                                                                                                User Bio  \\\n",
       "0                                                                         AnimalhealthEurope represents manufacturers of animal medicines in Europe #AnimalHealthMatters   \n",
       "1   We help people live well with the impact of cancer through physical, psychological and emotional support. We rely on voluntary donations &amp; we need your support!   \n",
       "2                                      It's easier to be who you are, than it is to be who you think others want you to be. 18+ only.\\nCultured Brute #NorseUp #Bearcats   \n",
       "6                           16.2 (and rising) hdcp golfer. fairways and greens. I loathe mustard! extremely grateful heart transplant recipient. #lifeisgood #donatelife   \n",
       "12  She/her/hers. Teacher of family medicine, former rural family doc. Runner yogi cyclist swimmer. Food enthusiast. Social &amp; repro justice advocate #kalefueledrage   \n",
       "\n",
       "   Verified or Non-Verified                         Profile URL  \\\n",
       "0              Non-Verified  https://twitter.com/animalhealthEU   \n",
       "1              Non-Verified    https://twitter.com/PennyBrohnUK   \n",
       "2              Non-Verified     https://twitter.com/lordbyronaf   \n",
       "6              Non-Verified       https://twitter.com/luapppank   \n",
       "12             Non-Verified  https://twitter.com/AndreaWestbyMD   \n",
       "\n",
       "   Protected or Non-protected User Followers  User Following  \\\n",
       "0               Non-Protected           3697             542   \n",
       "1               Non-Protected           3227            1571   \n",
       "2               Non-Protected           7808            8617   \n",
       "6               Non-Protected             69              81   \n",
       "12              Non-Protected            938            1247   \n",
       "\n",
       "    User Account Creation Date Impressions  \n",
       "0         17 Dec 2012 09:14:15        7394  \n",
       "1         15 Sep 2010 09:44:02        6454  \n",
       "2         25 Jul 2012 15:43:47           0  \n",
       "6         17 May 2009 12:58:43           0  \n",
       "12        15 Apr 2015 19:58:49        1876  \n",
       "\n",
       "[5 rows x 21 columns]"
      ],
      "text/html": "<div>\n<style scoped>\n    .dataframe tbody tr th:only-of-type {\n        vertical-align: middle;\n    }\n\n    .dataframe tbody tr th {\n        vertical-align: top;\n    }\n\n    .dataframe thead th {\n        text-align: right;\n    }\n</style>\n<table border=\"1\" class=\"dataframe\">\n  <thead>\n    <tr style=\"text-align: right;\">\n      <th></th>\n      <th>Tweet Id</th>\n      <th>Tweet URL</th>\n      <th>Tweet Posted Time (UTC)</th>\n      <th>Tweet Content</th>\n      <th>Tweet Type</th>\n      <th>Client</th>\n      <th>Retweets Received</th>\n      <th>Likes Received</th>\n      <th>Tweet Location</th>\n      <th>Tweet Language</th>\n      <th>...</th>\n      <th>Name</th>\n      <th>Username</th>\n      <th>User Bio</th>\n      <th>Verified or Non-Verified</th>\n      <th>Profile URL</th>\n      <th>Protected or Non-protected</th>\n      <th>User Followers</th>\n      <th>User Following</th>\n      <th>User Account Creation Date</th>\n      <th>Impressions</th>\n    </tr>\n  </thead>\n  <tbody>\n    <tr>\n      <th>0</th>\n      <td>\"1167429261210218497\"</td>\n      <td>https://twitter.com/animalhealthEU/status/1167429261210218497</td>\n      <td>30 Aug 2019 13:30:00</td>\n      <td>Pets change our lives &amp;amp; become a part of our families ❤️\\nThat's why our members offer many solutions to help you to enjoy a long-lasting bond with your happy &amp;amp; healthy pet 🐱🐶\\n#MorethanMedicine #PetCare #PetsareFamily https://t.co/fZNIXge9a3</td>\n      <td>Tweet</td>\n      <td>Twitter Ads Composer</td>\n      <td>0</td>\n      <td>4</td>\n      <td>Brussels</td>\n      <td>English</td>\n      <td>...</td>\n      <td>AnimalhealthEurope</td>\n      <td>animalhealthEU</td>\n      <td>AnimalhealthEurope represents manufacturers of animal medicines in Europe #AnimalHealthMatters</td>\n      <td>Non-Verified</td>\n      <td>https://twitter.com/animalhealthEU</td>\n      <td>Non-Protected</td>\n      <td>3697</td>\n      <td>542</td>\n      <td>17 Dec 2012 09:14:15</td>\n      <td>7394</td>\n    </tr>\n    <tr>\n      <th>1</th>\n      <td>\"1167375334670557185\"</td>\n      <td>https://twitter.com/PennyBrohnUK/status/1167375334670557185</td>\n      <td>30 Aug 2019 09:55:43</td>\n      <td>Another spot of our #morethanmedicine bus in #bristol this week! If you need support with your cancer diagnosis call us on 0303 3000 118. #livingwellwithcancer https://t.co/eZGLz0BkXB</td>\n      <td>Tweet</td>\n      <td>Twitter Web App</td>\n      <td>0</td>\n      <td>5</td>\n      <td>Pill, Bristol</td>\n      <td>English</td>\n      <td>...</td>\n      <td>Penny Brohn UK</td>\n      <td>PennyBrohnUK</td>\n      <td>We help people live well with the impact of cancer through physical, psychological and emotional support. We rely on voluntary donations &amp;amp; we need your support!</td>\n      <td>Non-Verified</td>\n      <td>https://twitter.com/PennyBrohnUK</td>\n      <td>Non-Protected</td>\n      <td>3227</td>\n      <td>1571</td>\n      <td>15 Sep 2010 09:44:02</td>\n      <td>6454</td>\n    </tr>\n    <tr>\n      <th>2</th>\n      <td>\"1167237977615097861\"</td>\n      <td>https://twitter.com/lordbyronaf/status/1167237977615097861</td>\n      <td>30 Aug 2019 00:49:54</td>\n      <td>What a great team ⁦@HealthSourceOH⁩ ⁦@Local12⁩ #morethanmedicine https://t.co/g2YzMDUpVA</td>\n      <td>ReTweet</td>\n      <td>Twitter for Android</td>\n      <td>0</td>\n      <td>0</td>\n      <td>Ohio, USA</td>\n      <td>English</td>\n      <td>...</td>\n      <td>Lord ByronAF</td>\n      <td>lordbyronaf</td>\n      <td>It's easier to be who you are, than it is to be who you think others want you to be. 18+ only.\\nCultured Brute #NorseUp #Bearcats</td>\n      <td>Non-Verified</td>\n      <td>https://twitter.com/lordbyronaf</td>\n      <td>Non-Protected</td>\n      <td>7808</td>\n      <td>8617</td>\n      <td>25 Jul 2012 15:43:47</td>\n      <td>0</td>\n    </tr>\n    <tr>\n      <th>6</th>\n      <td>\"1167163662051631104\"</td>\n      <td>https://twitter.com/luapppank/status/1167163662051631104</td>\n      <td>29 Aug 2019 19:54:36</td>\n      <td>Will you be at #FIX19? Want a preview of @AG_EM33 story? Then check back Monday for #ChangeOfHeart where we sat down with Alin to discuss her new life since her heart #transplant #MoreThanMedicine https://t.co/Xl9zjr7kZ1</td>\n      <td>ReTweet</td>\n      <td>Twitter for iPhone</td>\n      <td>0</td>\n      <td>0</td>\n      <td>Scottsdale, AZ</td>\n      <td>English</td>\n      <td>...</td>\n      <td>paul knapp</td>\n      <td>luapppank</td>\n      <td>16.2 (and rising) hdcp golfer. fairways and greens. I loathe mustard! extremely grateful heart transplant recipient. #lifeisgood #donatelife</td>\n      <td>Non-Verified</td>\n      <td>https://twitter.com/luapppank</td>\n      <td>Non-Protected</td>\n      <td>69</td>\n      <td>81</td>\n      <td>17 May 2009 12:58:43</td>\n      <td>0</td>\n    </tr>\n    <tr>\n      <th>12</th>\n      <td>\"1166892836165496835\"</td>\n      <td>https://twitter.com/AndreaWestbyMD/status/1166892836165496835</td>\n      <td>29 Aug 2019 01:58:26</td>\n      <td>Y’all ⁦@UMNNMFamMedRes⁩ Rose Marie Leslie is a ⁦@mnstatefair⁩ blue ribbon winning vinaigrette maker #morethanmedicine #alltheskills https://t.co/QzY8wsq4DO</td>\n      <td>Tweet</td>\n      <td>Twitter for iPhone</td>\n      <td>0</td>\n      <td>27</td>\n      <td>Minneapolis, MN</td>\n      <td>English</td>\n      <td>...</td>\n      <td>Andrea Westby</td>\n      <td>AndreaWestbyMD</td>\n      <td>She/her/hers. Teacher of family medicine, former rural family doc. Runner yogi cyclist swimmer. Food enthusiast. Social &amp;amp; repro justice advocate #kalefueledrage</td>\n      <td>Non-Verified</td>\n      <td>https://twitter.com/AndreaWestbyMD</td>\n      <td>Non-Protected</td>\n      <td>938</td>\n      <td>1247</td>\n      <td>15 Apr 2015 19:58:49</td>\n      <td>1876</td>\n    </tr>\n  </tbody>\n</table>\n<p>5 rows × 21 columns</p>\n</div>"
     },
     "metadata": {},
     "execution_count": 4
    }
   ],
   "source": [
    "new_data = data.drop_duplicates('Tweet Content',keep='first') #delete the duplicates by dropping them and store the result value to a new variable\n",
    "new_data.head()"
   ]
  },
  {
   "cell_type": "markdown",
   "metadata": {},
   "source": [
    "### Storing new sample data to a new csv file\n",
    "***\n",
    "we're going to store the new data to a new csv file cause the previous data contains index, and dropping some of the data mess the data structure, that's why we store the result of the duplicates dropping process to a new variable, so that we could save it to a new data file and later will be used for the next data cleaning process."
   ]
  },
  {
   "cell_type": "code",
   "execution_count": 5,
   "metadata": {},
   "outputs": [],
   "source": [
    "new_data.to_csv(r'new_sample.csv', index = False)"
   ]
  },
  {
   "cell_type": "code",
   "execution_count": 6,
   "metadata": {},
   "outputs": [
    {
     "output_type": "execute_result",
     "data": {
      "text/plain": [
       "                Tweet Id  \\\n",
       "0  \"1167429261210218497\"   \n",
       "1  \"1167375334670557185\"   \n",
       "2  \"1167237977615097861\"   \n",
       "3  \"1167163662051631104\"   \n",
       "4  \"1166892836165496835\"   \n",
       "\n",
       "                                                       Tweet URL  \\\n",
       "0  https://twitter.com/animalhealthEU/status/1167429261210218497   \n",
       "1    https://twitter.com/PennyBrohnUK/status/1167375334670557185   \n",
       "2     https://twitter.com/lordbyronaf/status/1167237977615097861   \n",
       "3       https://twitter.com/luapppank/status/1167163662051631104   \n",
       "4  https://twitter.com/AndreaWestbyMD/status/1166892836165496835   \n",
       "\n",
       "  Tweet Posted Time (UTC)  \\\n",
       "0    30 Aug 2019 13:30:00   \n",
       "1    30 Aug 2019 09:55:43   \n",
       "2    30 Aug 2019 00:49:54   \n",
       "3    29 Aug 2019 19:54:36   \n",
       "4    29 Aug 2019 01:58:26   \n",
       "\n",
       "                                                                                                                                                                                                                                                Tweet Content  \\\n",
       "0  Pets change our lives &amp; become a part of our families ❤️\\nThat's why our members offer many solutions to help you to enjoy a long-lasting bond with your happy &amp; healthy pet 🐱🐶\\n#MorethanMedicine #PetCare #PetsareFamily https://t.co/fZNIXge9a3   \n",
       "1                                                                     Another spot of our #morethanmedicine bus in #bristol this week! If you need support with your cancer diagnosis call us on 0303 3000 118. #livingwellwithcancer https://t.co/eZGLz0BkXB   \n",
       "2                                                                                                                                                                    What a great team ⁦@HealthSourceOH⁩ ⁦@Local12⁩ #morethanmedicine https://t.co/g2YzMDUpVA   \n",
       "3                                Will you be at #FIX19? Want a preview of @AG_EM33 story? Then check back Monday for #ChangeOfHeart where we sat down with Alin to discuss her new life since her heart #transplant #MoreThanMedicine https://t.co/Xl9zjr7kZ1   \n",
       "4                                                                                                 Y’all ⁦@UMNNMFamMedRes⁩ Rose Marie Leslie is a ⁦@mnstatefair⁩ blue ribbon winning vinaigrette maker #morethanmedicine #alltheskills https://t.co/QzY8wsq4DO   \n",
       "\n",
       "  Tweet Type                Client  Retweets Received  Likes Received  \\\n",
       "0      Tweet  Twitter Ads Composer                  0               4   \n",
       "1      Tweet       Twitter Web App                  0               5   \n",
       "2    ReTweet   Twitter for Android                  0               0   \n",
       "3    ReTweet    Twitter for iPhone                  0               0   \n",
       "4      Tweet    Twitter for iPhone                  0              27   \n",
       "\n",
       "    Tweet Location Tweet Language  ...                Name        Username  \\\n",
       "0         Brussels        English  ...  AnimalhealthEurope  animalhealthEU   \n",
       "1    Pill, Bristol        English  ...      Penny Brohn UK    PennyBrohnUK   \n",
       "2        Ohio, USA        English  ...        Lord ByronAF     lordbyronaf   \n",
       "3   Scottsdale, AZ        English  ...          paul knapp       luapppank   \n",
       "4  Minneapolis, MN        English  ...       Andrea Westby  AndreaWestbyMD   \n",
       "\n",
       "                                                                                                                                                               User Bio  \\\n",
       "0                                                                        AnimalhealthEurope represents manufacturers of animal medicines in Europe #AnimalHealthMatters   \n",
       "1  We help people live well with the impact of cancer through physical, psychological and emotional support. We rely on voluntary donations &amp; we need your support!   \n",
       "2                                     It's easier to be who you are, than it is to be who you think others want you to be. 18+ only.\\nCultured Brute #NorseUp #Bearcats   \n",
       "3                          16.2 (and rising) hdcp golfer. fairways and greens. I loathe mustard! extremely grateful heart transplant recipient. #lifeisgood #donatelife   \n",
       "4  She/her/hers. Teacher of family medicine, former rural family doc. Runner yogi cyclist swimmer. Food enthusiast. Social &amp; repro justice advocate #kalefueledrage   \n",
       "\n",
       "  Verified or Non-Verified                         Profile URL  \\\n",
       "0             Non-Verified  https://twitter.com/animalhealthEU   \n",
       "1             Non-Verified    https://twitter.com/PennyBrohnUK   \n",
       "2             Non-Verified     https://twitter.com/lordbyronaf   \n",
       "3             Non-Verified       https://twitter.com/luapppank   \n",
       "4             Non-Verified  https://twitter.com/AndreaWestbyMD   \n",
       "\n",
       "  Protected or Non-protected User Followers  User Following  \\\n",
       "0              Non-Protected           3697             542   \n",
       "1              Non-Protected           3227            1571   \n",
       "2              Non-Protected           7808            8617   \n",
       "3              Non-Protected             69              81   \n",
       "4              Non-Protected            938            1247   \n",
       "\n",
       "   User Account Creation Date Impressions  \n",
       "0        17 Dec 2012 09:14:15        7394  \n",
       "1        15 Sep 2010 09:44:02        6454  \n",
       "2        25 Jul 2012 15:43:47           0  \n",
       "3        17 May 2009 12:58:43           0  \n",
       "4        15 Apr 2015 19:58:49        1876  \n",
       "\n",
       "[5 rows x 21 columns]"
      ],
      "text/html": "<div>\n<style scoped>\n    .dataframe tbody tr th:only-of-type {\n        vertical-align: middle;\n    }\n\n    .dataframe tbody tr th {\n        vertical-align: top;\n    }\n\n    .dataframe thead th {\n        text-align: right;\n    }\n</style>\n<table border=\"1\" class=\"dataframe\">\n  <thead>\n    <tr style=\"text-align: right;\">\n      <th></th>\n      <th>Tweet Id</th>\n      <th>Tweet URL</th>\n      <th>Tweet Posted Time (UTC)</th>\n      <th>Tweet Content</th>\n      <th>Tweet Type</th>\n      <th>Client</th>\n      <th>Retweets Received</th>\n      <th>Likes Received</th>\n      <th>Tweet Location</th>\n      <th>Tweet Language</th>\n      <th>...</th>\n      <th>Name</th>\n      <th>Username</th>\n      <th>User Bio</th>\n      <th>Verified or Non-Verified</th>\n      <th>Profile URL</th>\n      <th>Protected or Non-protected</th>\n      <th>User Followers</th>\n      <th>User Following</th>\n      <th>User Account Creation Date</th>\n      <th>Impressions</th>\n    </tr>\n  </thead>\n  <tbody>\n    <tr>\n      <th>0</th>\n      <td>\"1167429261210218497\"</td>\n      <td>https://twitter.com/animalhealthEU/status/1167429261210218497</td>\n      <td>30 Aug 2019 13:30:00</td>\n      <td>Pets change our lives &amp;amp; become a part of our families ❤️\\nThat's why our members offer many solutions to help you to enjoy a long-lasting bond with your happy &amp;amp; healthy pet 🐱🐶\\n#MorethanMedicine #PetCare #PetsareFamily https://t.co/fZNIXge9a3</td>\n      <td>Tweet</td>\n      <td>Twitter Ads Composer</td>\n      <td>0</td>\n      <td>4</td>\n      <td>Brussels</td>\n      <td>English</td>\n      <td>...</td>\n      <td>AnimalhealthEurope</td>\n      <td>animalhealthEU</td>\n      <td>AnimalhealthEurope represents manufacturers of animal medicines in Europe #AnimalHealthMatters</td>\n      <td>Non-Verified</td>\n      <td>https://twitter.com/animalhealthEU</td>\n      <td>Non-Protected</td>\n      <td>3697</td>\n      <td>542</td>\n      <td>17 Dec 2012 09:14:15</td>\n      <td>7394</td>\n    </tr>\n    <tr>\n      <th>1</th>\n      <td>\"1167375334670557185\"</td>\n      <td>https://twitter.com/PennyBrohnUK/status/1167375334670557185</td>\n      <td>30 Aug 2019 09:55:43</td>\n      <td>Another spot of our #morethanmedicine bus in #bristol this week! If you need support with your cancer diagnosis call us on 0303 3000 118. #livingwellwithcancer https://t.co/eZGLz0BkXB</td>\n      <td>Tweet</td>\n      <td>Twitter Web App</td>\n      <td>0</td>\n      <td>5</td>\n      <td>Pill, Bristol</td>\n      <td>English</td>\n      <td>...</td>\n      <td>Penny Brohn UK</td>\n      <td>PennyBrohnUK</td>\n      <td>We help people live well with the impact of cancer through physical, psychological and emotional support. We rely on voluntary donations &amp;amp; we need your support!</td>\n      <td>Non-Verified</td>\n      <td>https://twitter.com/PennyBrohnUK</td>\n      <td>Non-Protected</td>\n      <td>3227</td>\n      <td>1571</td>\n      <td>15 Sep 2010 09:44:02</td>\n      <td>6454</td>\n    </tr>\n    <tr>\n      <th>2</th>\n      <td>\"1167237977615097861\"</td>\n      <td>https://twitter.com/lordbyronaf/status/1167237977615097861</td>\n      <td>30 Aug 2019 00:49:54</td>\n      <td>What a great team ⁦@HealthSourceOH⁩ ⁦@Local12⁩ #morethanmedicine https://t.co/g2YzMDUpVA</td>\n      <td>ReTweet</td>\n      <td>Twitter for Android</td>\n      <td>0</td>\n      <td>0</td>\n      <td>Ohio, USA</td>\n      <td>English</td>\n      <td>...</td>\n      <td>Lord ByronAF</td>\n      <td>lordbyronaf</td>\n      <td>It's easier to be who you are, than it is to be who you think others want you to be. 18+ only.\\nCultured Brute #NorseUp #Bearcats</td>\n      <td>Non-Verified</td>\n      <td>https://twitter.com/lordbyronaf</td>\n      <td>Non-Protected</td>\n      <td>7808</td>\n      <td>8617</td>\n      <td>25 Jul 2012 15:43:47</td>\n      <td>0</td>\n    </tr>\n    <tr>\n      <th>3</th>\n      <td>\"1167163662051631104\"</td>\n      <td>https://twitter.com/luapppank/status/1167163662051631104</td>\n      <td>29 Aug 2019 19:54:36</td>\n      <td>Will you be at #FIX19? Want a preview of @AG_EM33 story? Then check back Monday for #ChangeOfHeart where we sat down with Alin to discuss her new life since her heart #transplant #MoreThanMedicine https://t.co/Xl9zjr7kZ1</td>\n      <td>ReTweet</td>\n      <td>Twitter for iPhone</td>\n      <td>0</td>\n      <td>0</td>\n      <td>Scottsdale, AZ</td>\n      <td>English</td>\n      <td>...</td>\n      <td>paul knapp</td>\n      <td>luapppank</td>\n      <td>16.2 (and rising) hdcp golfer. fairways and greens. I loathe mustard! extremely grateful heart transplant recipient. #lifeisgood #donatelife</td>\n      <td>Non-Verified</td>\n      <td>https://twitter.com/luapppank</td>\n      <td>Non-Protected</td>\n      <td>69</td>\n      <td>81</td>\n      <td>17 May 2009 12:58:43</td>\n      <td>0</td>\n    </tr>\n    <tr>\n      <th>4</th>\n      <td>\"1166892836165496835\"</td>\n      <td>https://twitter.com/AndreaWestbyMD/status/1166892836165496835</td>\n      <td>29 Aug 2019 01:58:26</td>\n      <td>Y’all ⁦@UMNNMFamMedRes⁩ Rose Marie Leslie is a ⁦@mnstatefair⁩ blue ribbon winning vinaigrette maker #morethanmedicine #alltheskills https://t.co/QzY8wsq4DO</td>\n      <td>Tweet</td>\n      <td>Twitter for iPhone</td>\n      <td>0</td>\n      <td>27</td>\n      <td>Minneapolis, MN</td>\n      <td>English</td>\n      <td>...</td>\n      <td>Andrea Westby</td>\n      <td>AndreaWestbyMD</td>\n      <td>She/her/hers. Teacher of family medicine, former rural family doc. Runner yogi cyclist swimmer. Food enthusiast. Social &amp;amp; repro justice advocate #kalefueledrage</td>\n      <td>Non-Verified</td>\n      <td>https://twitter.com/AndreaWestbyMD</td>\n      <td>Non-Protected</td>\n      <td>938</td>\n      <td>1247</td>\n      <td>15 Apr 2015 19:58:49</td>\n      <td>1876</td>\n    </tr>\n  </tbody>\n</table>\n<p>5 rows × 21 columns</p>\n</div>"
     },
     "metadata": {},
     "execution_count": 6
    }
   ],
   "source": [
    "new_sample = pd.read_csv('new_sample.csv')\n",
    "new_sample.head()"
   ]
  },
  {
   "source": [
    "### Extract the tweets data\n",
    "\n",
    "We assume we're only gonna use the tweets only."
   ],
   "cell_type": "markdown",
   "metadata": {}
  },
  {
   "cell_type": "code",
   "execution_count": 7,
   "metadata": {},
   "outputs": [
    {
     "output_type": "execute_result",
     "data": {
      "text/plain": [
       "0    Pets change our lives &amp; become a part of our families ❤️\\nThat's why our members offer many solutions to help you to enjoy a long-lasting bond with your happy &amp; healthy pet 🐱🐶\\n#MorethanMedicine #PetCare #PetsareFamily https://t.co/fZNIXge9a3\n",
       "1                                                                       Another spot of our #morethanmedicine bus in #bristol this week! If you need support with your cancer diagnosis call us on 0303 3000 118. #livingwellwithcancer https://t.co/eZGLz0BkXB\n",
       "2                                                                                                                                                                      What a great team ⁦@HealthSourceOH⁩ ⁦@Local12⁩ #morethanmedicine https://t.co/g2YzMDUpVA\n",
       "3                                  Will you be at #FIX19? Want a preview of @AG_EM33 story? Then check back Monday for #ChangeOfHeart where we sat down with Alin to discuss her new life since her heart #transplant #MoreThanMedicine https://t.co/Xl9zjr7kZ1\n",
       "4                                                                                                   Y’all ⁦@UMNNMFamMedRes⁩ Rose Marie Leslie is a ⁦@mnstatefair⁩ blue ribbon winning vinaigrette maker #morethanmedicine #alltheskills https://t.co/QzY8wsq4DO\n",
       "Name: Tweet Content, dtype: object"
      ]
     },
     "metadata": {},
     "execution_count": 7
    }
   ],
   "source": [
    "tweets = new_sample['Tweet Content'] #extract the tweets and store the values into a variable\n",
    "tweets.head()"
   ]
  },
  {
   "cell_type": "markdown",
   "metadata": {},
   "source": [
    "## 2. Decoding HTML Entities and Cleaning Newlines\n",
    "\n",
    "&nbsp;&nbsp;&nbsp;&nbsp;&nbsp;&nbsp;So far, we already got the tweets but there are encoded html entities and newlines (\\n) inside the tweets and we need to decode or clean them first."
   ]
  },
  {
   "cell_type": "code",
   "execution_count": 8,
   "metadata": {},
   "outputs": [
    {
     "output_type": "execute_result",
     "data": {
      "text/plain": [
       "0    Pets change our lives & become a part of our families ❤️ That's why our members offer many solutions to help you to enjoy a long-lasting bond with your happy & healthy pet 🐱🐶 #MorethanMedicine #PetCare #PetsareFamily https://t.co/fZNIXge9a3\n",
       "1                                                             Another spot of our #morethanmedicine bus in #bristol this week! If you need support with your cancer diagnosis call us on 0303 3000 118. #livingwellwithcancer https://t.co/eZGLz0BkXB\n",
       "2                                                                                                                                                            What a great team ⁦@HealthSourceOH⁩ ⁦@Local12⁩ #morethanmedicine https://t.co/g2YzMDUpVA\n",
       "3                        Will you be at #FIX19? Want a preview of @AG_EM33 story? Then check back Monday for #ChangeOfHeart where we sat down with Alin to discuss her new life since her heart #transplant #MoreThanMedicine https://t.co/Xl9zjr7kZ1\n",
       "4                                                                                         Y’all ⁦@UMNNMFamMedRes⁩ Rose Marie Leslie is a ⁦@mnstatefair⁩ blue ribbon winning vinaigrette maker #morethanmedicine #alltheskills https://t.co/QzY8wsq4DO\n",
       "Name: Tweet Content, dtype: object"
      ]
     },
     "metadata": {},
     "execution_count": 8
    }
   ],
   "source": [
    "for i in range (len(tweets)):\n",
    "    x = tweets[i].replace(\"\\n\",\" \") #cleaning newline \"\\n\" from the tweets\n",
    "    tweets[i] = html.unescape(x)\n",
    "tweets.head()"
   ]
  },
  {
   "cell_type": "markdown",
   "metadata": {},
   "source": [
    "## 3. Removing Unnecessary Stuffs using Regular Expression (ReGex)\n",
    "<br>\n",
    "&nbsp;&nbsp;&nbsp;&nbsp;&nbsp;&nbsp;In this process we're cleaning up links on the tweets as well as hash characters, usernames, and punctuations, cause those things are usually not needed and could possibly disrupt the analysis by messing up the measurement score and lead to an inaccurate outcome later on, so we're going to get rid of em! 😉"
   ]
  },
  {
   "cell_type": "code",
   "execution_count": 9,
   "metadata": {},
   "outputs": [
    {
     "output_type": "execute_result",
     "data": {
      "text/plain": [
       "0    Pets change our lives  become a part of our families  Thats why our members offer many solutions to help you to enjoy a longlasting bond with your happy  healthy pet  MorethanMedicine PetCare PetsareFamily \n",
       "1                                                       Another spot of our morethanmedicine bus in bristol this week If you need support with your cancer diagnosis call us on 0303 3000 118 livingwellwithcancer \n",
       "2                                                                                                                                                                             What a great team   morethanmedicine \n",
       "3                           Will you be at FIX19 Want a preview of  story Then check back Monday for ChangeOfHeart where we sat down with Alin to discuss her new life since her heart transplant MoreThanMedicine \n",
       "4                                                                                                                Yall  Rose Marie Leslie is a  blue ribbon winning vinaigrette maker morethanmedicine alltheskills \n",
       "Name: Tweet Content, dtype: object"
      ]
     },
     "metadata": {},
     "execution_count": 9
    }
   ],
   "source": [
    "for i in range (len(tweets)):\n",
    "    tweets[i] = re.sub(r\"(@[A-Za-z0-9_]+)|[^\\w\\s]|#|http\\S+\", \"\", tweets[i])\n",
    "tweets.head()"
   ]
  },
  {
   "source": [
    "## 4. Removing Stopwords\n",
    "&nbsp;&nbsp;&nbsp;&nbsp;&nbsp;&nbsp;According to Wikipedia, stop words are words which are filtered out before or after processing of natural language data. Stopwords are removed or excluded from the given text so that more focus can be given to those words which define the meaning of the text."
   ],
   "cell_type": "markdown",
   "metadata": {}
  },
  {
   "source": [
    "* **Preparing stopwords**\n",
    "<br><br>notice that in this process we take \"not\" out of the stopwords corpus, because \"not\" is crucial to the literal meaning or context of the text, and \"not good\" obviously doesn't resemble \"good\"."
   ],
   "cell_type": "markdown",
   "metadata": {}
  },
  {
   "cell_type": "code",
   "execution_count": 10,
   "metadata": {},
   "outputs": [],
   "source": [
    "tweets_to_token = tweets\n",
    "sw = stopwords.words('english') #remove 'not' from stopwords\n",
    "sw.remove('not')"
   ]
  },
  {
   "source": [
    "* **Tokenize tweets**\n",
    "<br><br>break the tweets into words."
   ],
   "cell_type": "markdown",
   "metadata": {}
  },
  {
   "cell_type": "code",
   "execution_count": 11,
   "metadata": {},
   "outputs": [],
   "source": [
    "for i in range(len(tweets_to_token)):\n",
    "    tweets_to_token[i] = word_tokenize(tweets_to_token[i])"
   ]
  },
  {
   "source": [
    "* **removing stopwords out of the tweets**\n",
    "<br><br>filter out stopwords out of the data."
   ],
   "cell_type": "markdown",
   "metadata": {}
  },
  {
   "cell_type": "code",
   "execution_count": 12,
   "metadata": {},
   "outputs": [
    {
     "output_type": "execute_result",
     "data": {
      "text/plain": [
       "0                                   [Pets, change, lives, become, part, families, Thats, members, offer, many, solutions, help, enjoy, longlasting, bond, happy, healthy, pet, MorethanMedicine, PetCare, PetsareFamily]\n",
       "1                                                                           [Another, spot, morethanmedicine, bus, bristol, week, If, need, support, cancer, diagnosis, call, us, 0303, 3000, 118, livingwellwithcancer]\n",
       "2                                                                                                                                                                                  [What, great, team, morethanmedicine]\n",
       "3                                                               [Will, FIX19, Want, preview, story, Then, check, back, Monday, ChangeOfHeart, sat, Alin, discuss, new, life, since, heart, transplant, MoreThanMedicine]\n",
       "4                                                                                                                 [Yall, Rose, Marie, Leslie, blue, ribbon, winning, vinaigrette, maker, morethanmedicine, alltheskills]\n",
       "                                                                                                             ...                                                                                                        \n",
       "106                                                                           [AgainThe, My, Special, Aflac, Duck, Cannes, morethanmedicine, Five, Cannes, Lions, Campaigns, We, Liked, winner, revealed, PR, Week, via]\n",
       "107    [Hope, feathers, Today, weve, provided, 4300, My, Special, Aflac, Ducks, children, 210, hospitals, 47, states, free, charge, Were, getting, started, wont, stop, childhood, cancer, eradicated, morethanmedicine]\n",
       "108                                                                                        [First, best, past, year, LearningMoments, chance, sit, discussed, idea, Learning, Moments, MoreThanMedicine, TipsForNewDocs]\n",
       "109                               [campaign, MorethanMedicine, kicking, today, showcasing, benefits, animal, health, solutions, For, us, ensuring, good, animalhealth, vital, good, welfare, deserve, health, important]\n",
       "110      [After, great, weekend, rebellion19, back, month, TipsForNewDocs, July, rebroadcasting, best, past, year, crew, takes, much, needed, break, transitions, new, academic, year, MoreThanMedicine, TipsForAllDocs]\n",
       "Name: Tweet Content, Length: 111, dtype: object"
      ]
     },
     "metadata": {},
     "execution_count": 12
    }
   ],
   "source": [
    "for i in range(len(tweets_to_token)):\n",
    "    tweets_to_token[i] = [word for word in tweets_to_token[i] if not word in sw]\n",
    "\n",
    "tweets_to_token"
   ]
  },
  {
   "source": [
    "#### Comparing data before and after cleaning\n",
    "These are the comparison between the data before and after cleaning. The data after cleaning is free of html encodes, links, and any other unnecessary characters or stuffs. See that the data before cleaning still contains data duplicates, that's why we see same tweets on data number 2,3 and 4 there, and also notice that data after cleaning are in array containing words, this is because in analysis process, we will calculate the data by words and not sentences, that's why we tokenized the data earlier."
   ],
   "cell_type": "markdown",
   "metadata": {}
  },
  {
   "cell_type": "code",
   "execution_count": 13,
   "metadata": {},
   "outputs": [
    {
     "output_type": "stream",
     "name": "stdout",
     "text": [
      "-----------------------------------------------------\n          DATA BEFORE CLEANING:\n-----------------------------------------------------\n"
     ]
    },
    {
     "output_type": "execute_result",
     "data": {
      "text/plain": [
       "0    Pets change our lives &amp; become a part of our families ❤️\\nThat's why our members offer many solutions to help you to enjoy a long-lasting bond with your happy &amp; healthy pet 🐱🐶\\n#MorethanMedicine #PetCare #PetsareFamily https://t.co/fZNIXge9a3\n",
       "1                                                                       Another spot of our #morethanmedicine bus in #bristol this week! If you need support with your cancer diagnosis call us on 0303 3000 118. #livingwellwithcancer https://t.co/eZGLz0BkXB\n",
       "2                                                                                                                                                                      What a great team ⁦@HealthSourceOH⁩ ⁦@Local12⁩ #morethanmedicine https://t.co/g2YzMDUpVA\n",
       "3                                                                                                                                                                      What a great team ⁦@HealthSourceOH⁩ ⁦@Local12⁩ #morethanmedicine https://t.co/g2YzMDUpVA\n",
       "4                                                                                                                                                                      What a great team ⁦@HealthSourceOH⁩ ⁦@Local12⁩ #morethanmedicine https://t.co/g2YzMDUpVA\n",
       "Name: Tweet Content, dtype: object"
      ]
     },
     "metadata": {},
     "execution_count": 13
    }
   ],
   "source": [
    "print(\"-----------------------------------------------------\\n          DATA BEFORE CLEANING:\\n-----------------------------------------------------\")\n",
    "data['Tweet Content'].head()"
   ]
  },
  {
   "cell_type": "code",
   "execution_count": 14,
   "metadata": {},
   "outputs": [
    {
     "output_type": "stream",
     "name": "stdout",
     "text": [
      "-----------------------------------------------------\n            DATA AFTER CLEANING:\n-----------------------------------------------------\n"
     ]
    },
    {
     "output_type": "execute_result",
     "data": {
      "text/plain": [
       "0    [Pets, change, lives, become, part, families, Thats, members, offer, many, solutions, help, enjoy, longlasting, bond, happy, healthy, pet, MorethanMedicine, PetCare, PetsareFamily]\n",
       "1                                            [Another, spot, morethanmedicine, bus, bristol, week, If, need, support, cancer, diagnosis, call, us, 0303, 3000, 118, livingwellwithcancer]\n",
       "2                                                                                                                                                   [What, great, team, morethanmedicine]\n",
       "3                                [Will, FIX19, Want, preview, story, Then, check, back, Monday, ChangeOfHeart, sat, Alin, discuss, new, life, since, heart, transplant, MoreThanMedicine]\n",
       "4                                                                                  [Yall, Rose, Marie, Leslie, blue, ribbon, winning, vinaigrette, maker, morethanmedicine, alltheskills]\n",
       "Name: Tweet Content, dtype: object"
      ]
     },
     "metadata": {},
     "execution_count": 14
    }
   ],
   "source": [
    "print(\"-----------------------------------------------------\\n            DATA AFTER CLEANING:\\n-----------------------------------------------------\")\n",
    "tweets_to_token.head()"
   ]
  }
 ],
 "metadata": {
  "kernelspec": {
   "display_name": "Python 3",
   "language": "python",
   "name": "python3"
  },
  "language_info": {
   "codemirror_mode": {
    "name": "ipython",
    "version": 3
   },
   "file_extension": ".py",
   "mimetype": "text/x-python",
   "name": "python",
   "nbconvert_exporter": "python",
   "pygments_lexer": "ipython3",
   "version": "3.8.3-final"
  }
 },
 "nbformat": 4,
 "nbformat_minor": 4
}
